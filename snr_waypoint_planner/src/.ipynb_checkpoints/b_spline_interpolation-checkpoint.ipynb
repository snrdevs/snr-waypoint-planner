{
 "cells": [
  {
   "cell_type": "raw",
   "metadata": {},
   "source": [
    "B-Spline evaluation"
   ]
  },
  {
   "cell_type": "code",
   "execution_count": null,
   "metadata": {},
   "outputs": [],
   "source": [
    "import numpy as np\n",
    "from scipy import interpolate\n",
    "\n",
    "import matplotlib.pyplot as plt\n",
    "%matplotlib inline \n",
    "\n",
    "file_loc = \"\" \n",
    "\n",
    "\n",
    "#ctr =np.array( [(3 , 1), (2.5, 4), (0, 1), (-2.5, 4),\n",
    "#                (-3, 0), (-2.5, -4), (0, -1), (2.5, -4), (3, -1)])\n",
    "\n",
    "ctr = np.array([(-1.86715817451,-0.0285595674068),(-1.48840463161,-0.445958822966),(-0.77062690258,-0.507232427597),(-0.223821178079,-0.481025993824),(0.538644969463,-0.777001619339),(0.594348788261,-1.51162481308),(-0.0933495014906,-1.57558274269),(-0.593310654163,-1.60222053528),(-1.04592430592,-1.57462573051),(-1.50454866886,-1.35173356533),(-2.03736615181,-0.706435739994)])\n",
    "x=ctr[:,0]\n",
    "y=ctr[:,1]\n",
    "\n",
    "# uncomment both lines for a closed curve\n",
    "#x=np.append(x,[x[0]])  \n",
    "#y=np.append(y,[y[0]])\n",
    "\n",
    "l=len(x)  \n",
    "\n",
    "t=np.linspace(0,1,l-2,endpoint=True)\n",
    "print(t)\n",
    "t=np.append([0,0,0],t)\n",
    "print(t)\n",
    "t=np.append(t,[1,1,1])\n",
    "print(t)\n",
    "\n",
    "\n",
    "tck=[t,[x,y],3]\n",
    "u3=np.linspace(0,1,(max(l*2,70)),endpoint=True)\n",
    "out = interpolate.splev(u3,tck)\n",
    "\n",
    "plt.plot(x,y,'k--',label='Control polygon',marker='o',markerfacecolor='red')\n",
    "#plt.plot(x,y,'ro',label='Control points only')\n",
    "plt.plot(out[0],out[1],'b',linewidth=2.0,label='B-spline curve')\n",
    "plt.legend(loc='best')\n",
    "plt.axis([min(x)-1, max(x)+1, min(y)-1, max(y)+1])\n",
    "plt.title('Cubic B-spline curve evaluation')\n",
    "plt.show()"
   ]
  },
  {
   "cell_type": "markdown",
   "metadata": {},
   "source": [
    "B-Spline interpolation"
   ]
  },
  {
   "cell_type": "code",
   "execution_count": 28,
   "metadata": {},
   "outputs": [
    {
     "ename": "TypeError",
     "evalue": "'tuple' object is not callable",
     "output_type": "error",
     "traceback": [
      "\u001b[0;31m---------------------------------------------------------------------------\u001b[0m",
      "\u001b[0;31mTypeError\u001b[0m                                 Traceback (most recent call last)",
      "\u001b[0;32m<ipython-input-28-da617edc54e3>\u001b[0m in \u001b[0;36m<module>\u001b[0;34m()\u001b[0m\n\u001b[1;32m     11\u001b[0m \u001b[0mctr\u001b[0m \u001b[0;34m=\u001b[0m \u001b[0mnp\u001b[0m\u001b[0;34m.\u001b[0m\u001b[0marray\u001b[0m\u001b[0;34m(\u001b[0m\u001b[0;34m[\u001b[0m\u001b[0;34m(\u001b[0m\u001b[0;34m-\u001b[0m\u001b[0;36m1.86715817451\u001b[0m\u001b[0;34m,\u001b[0m\u001b[0;34m-\u001b[0m\u001b[0;36m0.0285595674068\u001b[0m\u001b[0;34m)\u001b[0m\u001b[0;34m,\u001b[0m\u001b[0;34m(\u001b[0m\u001b[0;34m-\u001b[0m\u001b[0;36m1.48840463161\u001b[0m\u001b[0;34m,\u001b[0m\u001b[0;34m-\u001b[0m\u001b[0;36m0.445958822966\u001b[0m\u001b[0;34m)\u001b[0m\u001b[0;34m,\u001b[0m\u001b[0;34m(\u001b[0m\u001b[0;34m-\u001b[0m\u001b[0;36m0.77062690258\u001b[0m\u001b[0;34m,\u001b[0m\u001b[0;34m-\u001b[0m\u001b[0;36m0.507232427597\u001b[0m\u001b[0;34m)\u001b[0m\u001b[0;34m,\u001b[0m\u001b[0;34m(\u001b[0m\u001b[0;34m-\u001b[0m\u001b[0;36m0.223821178079\u001b[0m\u001b[0;34m,\u001b[0m\u001b[0;34m-\u001b[0m\u001b[0;36m0.481025993824\u001b[0m\u001b[0;34m)\u001b[0m\u001b[0;34m,\u001b[0m\u001b[0;34m(\u001b[0m\u001b[0;36m0.538644969463\u001b[0m\u001b[0;34m,\u001b[0m\u001b[0;34m-\u001b[0m\u001b[0;36m0.777001619339\u001b[0m\u001b[0;34m)\u001b[0m\u001b[0;34m,\u001b[0m\u001b[0;34m(\u001b[0m\u001b[0;36m0.594348788261\u001b[0m\u001b[0;34m,\u001b[0m\u001b[0;34m-\u001b[0m\u001b[0;36m1.51162481308\u001b[0m\u001b[0;34m)\u001b[0m\u001b[0;34m,\u001b[0m\u001b[0;34m(\u001b[0m\u001b[0;34m-\u001b[0m\u001b[0;36m0.0933495014906\u001b[0m\u001b[0;34m,\u001b[0m\u001b[0;34m-\u001b[0m\u001b[0;36m1.57558274269\u001b[0m\u001b[0;34m)\u001b[0m\u001b[0;34m,\u001b[0m\u001b[0;34m(\u001b[0m\u001b[0;34m-\u001b[0m\u001b[0;36m0.593310654163\u001b[0m\u001b[0;34m,\u001b[0m\u001b[0;34m-\u001b[0m\u001b[0;36m1.60222053528\u001b[0m\u001b[0;34m)\u001b[0m\u001b[0;34m,\u001b[0m\u001b[0;34m(\u001b[0m\u001b[0;34m-\u001b[0m\u001b[0;36m1.04592430592\u001b[0m\u001b[0;34m,\u001b[0m\u001b[0;34m-\u001b[0m\u001b[0;36m1.57462573051\u001b[0m\u001b[0;34m)\u001b[0m\u001b[0;34m,\u001b[0m\u001b[0;34m(\u001b[0m\u001b[0;34m-\u001b[0m\u001b[0;36m1.50454866886\u001b[0m\u001b[0;34m,\u001b[0m\u001b[0;34m-\u001b[0m\u001b[0;36m1.35173356533\u001b[0m\u001b[0;34m)\u001b[0m\u001b[0;34m,\u001b[0m\u001b[0;34m(\u001b[0m\u001b[0;34m-\u001b[0m\u001b[0;36m2.03736615181\u001b[0m\u001b[0;34m,\u001b[0m\u001b[0;34m-\u001b[0m\u001b[0;36m0.706435739994\u001b[0m\u001b[0;34m)\u001b[0m\u001b[0;34m]\u001b[0m\u001b[0;34m)\u001b[0m\u001b[0;34m\u001b[0m\u001b[0m\n\u001b[1;32m     12\u001b[0m \u001b[0;34m\u001b[0m\u001b[0m\n\u001b[0;32m---> 13\u001b[0;31m \u001b[0;32mprint\u001b[0m \u001b[0mctr\u001b[0m\u001b[0;34m.\u001b[0m\u001b[0mshape\u001b[0m\u001b[0;34m(\u001b[0m\u001b[0;34m)\u001b[0m\u001b[0;34m\u001b[0m\u001b[0m\n\u001b[0m\u001b[1;32m     14\u001b[0m \u001b[0;34m\u001b[0m\u001b[0m\n\u001b[1;32m     15\u001b[0m \u001b[0;34m\u001b[0m\u001b[0m\n",
      "\u001b[0;31mTypeError\u001b[0m: 'tuple' object is not callable"
     ]
    }
   ],
   "source": [
    "import numpy as np\n",
    "from scipy import interpolate\n",
    "\n",
    "import matplotlib.pyplot as plt\n",
    "\n",
    "#x = np.arange(0, 2*np.pi+np.pi/4, 2*np.pi/8)\n",
    "#y = np.sin(x)\n",
    "\n",
    "#ctr =np.array( [(3 , 1), (2.5, 4), (0, 1), (-2.5, 4),\n",
    "#                (-3, 0), (-2.5, -4), (0, -1), (2.5, -4), (3, -1)])\n",
    "ctr = np.array([(-1.86715817451,-0.0285595674068),(-1.48840463161,-0.445958822966),(-0.77062690258,-0.507232427597),(-0.223821178079,-0.481025993824),(0.538644969463,-0.777001619339),(0.594348788261,-1.51162481308),(-0.0933495014906,-1.57558274269),(-0.593310654163,-1.60222053528),(-1.04592430592,-1.57462573051),(-1.50454866886,-1.35173356533),(-2.03736615181,-0.706435739994)])\n",
    "\n",
    "print ctr.shape()\n",
    "\n",
    "\n",
    "x=ctr[:,0]\n",
    "y=ctr[:,1]\n",
    "\n",
    "#x=np.append(x,x[0])\n",
    "#y=np.append(y,y[0])\n",
    "\n",
    "tck,u = interpolate.splprep([x,y],k=3,s=0)\n",
    "u=np.linspace(0,1,num=50,endpoint=True)\n",
    "out = interpolate.splev(u,tck)\n",
    "\n",
    "\n",
    "plt.figure()\n",
    "plt.plot(x, y, 'ro', out[0], out[1], 'b')\n",
    "plt.legend(['Points', 'Interpolated B-spline', 'True'],loc='best')\n",
    "plt.axis([min(x)-1, max(x)+1, min(y)-1, max(y)+1])\n",
    "plt.title('B-Spline interpolation')\n",
    "plt.show()"
   ]
  },
  {
   "cell_type": "code",
   "execution_count": null,
   "metadata": {},
   "outputs": [],
   "source": []
  }
 ],
 "metadata": {
  "kernelspec": {
   "display_name": "Python 2.7.17 64-bit",
   "language": "python",
   "name": "python271764bit14219d9d898b4e5dbe1ff7f0df656179"
  },
  "language_info": {
   "codemirror_mode": {
    "name": "ipython",
    "version": 2
   },
   "file_extension": ".py",
   "mimetype": "text/x-python",
   "name": "python",
   "nbconvert_exporter": "python",
   "pygments_lexer": "ipython2",
   "version": "2.7.17"
  }
 },
 "nbformat": 4,
 "nbformat_minor": 2
}
