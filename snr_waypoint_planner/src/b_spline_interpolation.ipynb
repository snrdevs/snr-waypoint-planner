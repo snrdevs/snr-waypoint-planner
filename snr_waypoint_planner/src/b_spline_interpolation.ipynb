{
 "cells": [
  {
   "cell_type": "raw",
   "metadata": {},
   "source": [
    "B-Spline evaluation"
   ]
  },
  {
   "cell_type": "code",
   "execution_count": null,
   "metadata": {},
   "outputs": [],
   "source": [
    "import numpy as np\n",
    "from scipy import interpolate\n",
    "\n",
    "import matplotlib.pyplot as plt\n",
    "%matplotlib inline \n",
    "\n",
    "file_loc = \"\" \n",
    "\n",
    "\n",
    "#ctr =np.array( [(3 , 1), (2.5, 4), (0, 1), (-2.5, 4),\n",
    "#                (-3, 0), (-2.5, -4), (0, -1), (2.5, -4), (3, -1)])\n",
    "\n",
    "ctr = np.array([(-1.86715817451,-0.0285595674068),(-1.48840463161,-0.445958822966),(-0.77062690258,-0.507232427597),(-0.223821178079,-0.481025993824),(0.538644969463,-0.777001619339),(0.594348788261,-1.51162481308),(-0.0933495014906,-1.57558274269),(-0.593310654163,-1.60222053528),(-1.04592430592,-1.57462573051),(-1.50454866886,-1.35173356533),(-2.03736615181,-0.706435739994)])\n",
    "x=ctr[:,0]\n",
    "y=ctr[:,1]\n",
    "\n",
    "# uncomment both lines for a closed curve\n",
    "#x=np.append(x,[x[0]])  \n",
    "#y=np.append(y,[y[0]])\n",
    "\n",
    "l=len(x)  \n",
    "\n",
    "t=np.linspace(0,1,l-2,endpoint=True)\n",
    "print(t)\n",
    "t=np.append([0,0,0],t)\n",
    "print(t)\n",
    "t=np.append(t,[1,1,1])\n",
    "print(t)\n",
    "\n",
    "\n",
    "tck=[t,[x,y],3]\n",
    "u3=np.linspace(0,1,(max(l*2,70)),endpoint=True)\n",
    "out = interpolate.splev(u3,tck)\n",
    "\n",
    "plt.plot(x,y,'k--',label='Control polygon',marker='o',markerfacecolor='red')\n",
    "#plt.plot(x,y,'ro',label='Control points only')\n",
    "plt.plot(out[0],out[1],'b',linewidth=2.0,label='B-spline curve')\n",
    "plt.legend(loc='best')\n",
    "plt.axis([min(x)-1, max(x)+1, min(y)-1, max(y)+1])\n",
    "plt.title('Cubic B-spline curve evaluation')\n",
    "plt.show()"
   ]
  },
  {
   "cell_type": "markdown",
   "metadata": {},
   "source": [
    "B-Spline interpolation"
   ]
  },
  {
   "cell_type": "code",
   "execution_count": 40,
   "metadata": {},
   "outputs": [
    {
     "name": "stdout",
     "output_type": "stream",
     "text": [
      "<type 'numpy.ndarray'>\n",
      "(11, 2)\n"
     ]
    },
    {
     "data": {
      "image/png": "[encoded data removed]",
      "text/plain": [
       "<matplotlib.figure.Figure at 0x7fcbba6f8390>"
      ]
     },
     "metadata": {
      "needs_background": "light"
     },
     "output_type": "display_data"
    }
   ],
   "source": [
    "import numpy as np\n",
    "from scipy import interpolate\n",
    "\n",
    "import matplotlib.pyplot as plt\n",
    "\n",
    "#x = np.arange(0, 2*np.pi+np.pi/4, 2*np.pi/8)\n",
    "#y = np.sin(x)\n",
    "\n",
    "#ctr =np.array( [(3 , 1), (2.5, 4), (0, 1), (-2.5, 4),\n",
    "#                (-3, 0), (-2.5, -4), (0, -1), (2.5, -4), (3, -1)])\n",
    "ctr = np.array([(-1.86715817451,-0.0285595674068),(-1.48840463161,-0.445958822966),(-0.77062690258,-0.507232427597),(-0.223821178079,-0.481025993824),(0.538644969463,-0.777001619339),(0.594348788261,-1.51162481308),(-0.0933495014906,-1.57558274269),(-0.593310654163,-1.60222053528),(-1.04592430592,-1.57462573051),(-1.50454866886,-1.35173356533),(-2.03736615181,-0.706435739994)])\n",
    "\n",
    "print type(ctr)\n",
    "print ctr.shape\n",
    "\n",
    "\n",
    "x=ctr[:,0]\n",
    "y=ctr[:,1]\n",
    "\n",
    "#x=np.append(x,x[0])\n",
    "#y=np.append(y,y[0])\n",
    "\n",
    "tck,u = interpolate.splprep([x,y],k=3,s=0)\n",
    "u=np.linspace(0,1,num=100,endpoint=True)\n",
    "out = interpolate.splev(u,tck)\n",
    "\n",
    "\n",
    "plt.figure()\n",
    "plt.plot(x, y, 'ro', out[0], out[1], 'g')\n",
    "plt.legend(['Points', 'Interpolated B-spline', 'True'],loc='best')\n",
    "plt.axis([min(x)-1, max(x)+1, min(y)-1, max(y)+1])\n",
    "plt.title('B-Spline interpolation')\n",
    "plt.show()"
   ]
  },
  {
   "cell_type": "code",
   "execution_count": 34,
   "metadata": {},
   "outputs": [
    {
     "data": {
      "text/plain": [
       "array([[1, 5],\n",
       "       [2, 2],\n",
       "       [3, 3],\n",
       "       [4, 6]])"
      ]
     },
     "execution_count": 34,
     "metadata": {},
     "output_type": "execute_result"
    }
   ],
   "source": [
    "x = np.array([1,2,3,4])\n",
    "y = np.array([5,2,3,6]) \n",
    "\n",
    "ctr = np.vstack((x, y)).T\n",
    "\n",
    "ctr"
   ]
  },
  {
   "cell_type": "code",
   "execution_count": null,
   "metadata": {},
   "outputs": [],
   "source": []
  }
 ],
 "metadata": {
  "kernelspec": {
   "display_name": "Python 2.7.17 64-bit",
   "language": "python",
   "name": "python271764bit14219d9d898b4e5dbe1ff7f0df656179"
  },
  "language_info": {
   "codemirror_mode": {
    "name": "ipython",
    "version": 2
   },
   "file_extension": ".py",
   "mimetype": "text/x-python",
   "name": "python",
   "nbconvert_exporter": "python",
   "pygments_lexer": "ipython2",
   "version": "2.7.17"
  }
 },
 "nbformat": 4,
 "nbformat_minor": 2
}
